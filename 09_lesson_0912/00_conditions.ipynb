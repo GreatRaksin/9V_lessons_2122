{
 "cells": [
  {
   "cell_type": "markdown",
   "metadata": {
    "collapsed": true
   },
   "source": [
    "# Условия\n",
    "\n",
    "<img src=\"https://upload.wikimedia.org/wikipedia/commons/thumb/c/c5/If-Then-Else-diagram.svg/1200px-If-Then-Else-diagram.svg.png\" width=\"200px\">\n",
    "\n",
    "<p>Условия позволяют реализовать алгоритмы с ветвлением.</p>\n",
    "\n",
    "<p>Для проверки высказываний в условной конструкции используются логические операторы:</p>\n",
    "\n",
    "<ul>\n",
    "    <li><code>&lt;</code></li>\n",
    "    <li><code>&gt;</code></li>\n",
    "    <li><code>&lt;=</code></li>\n",
    "    <li><code>&gt;=</code></li>\n",
    "    <li><code>!=</code> - не равно</li>\n",
    "    <li><code>==</code> - равенство</li>\n",
    "    <li><code>in</code> проверить, находится ли какой-то элемент внутри коллекции.</li>\n",
    "    <li><code>is</code> сравнение по значению (то же самое, что равенство)</li>\n",
    "</ul>"
   ]
  },
  {
   "cell_type": "code",
   "execution_count": 1,
   "metadata": {},
   "outputs": [
    {
     "ename": "ValueError",
     "evalue": "invalid literal for int() with base 10: ''",
     "output_type": "error",
     "traceback": [
      "\u001B[0;31m---------------------------------------------------------------------------\u001B[0m",
      "\u001B[0;31mValueError\u001B[0m                                Traceback (most recent call last)",
      "\u001B[0;32m/var/folders/kg/wys5qw45109bn_kq6647wwzw0000gn/T/ipykernel_1005/3590714898.py\u001B[0m in \u001B[0;36m<module>\u001B[0;34m\u001B[0m\n\u001B[1;32m      1\u001B[0m \u001B[0ma\u001B[0m \u001B[0;34m=\u001B[0m \u001B[0;34m[\u001B[0m\u001B[0;36m5\u001B[0m\u001B[0;34m,\u001B[0m \u001B[0;36m3\u001B[0m\u001B[0;34m,\u001B[0m \u001B[0;36m2\u001B[0m\u001B[0;34m,\u001B[0m \u001B[0;36m6\u001B[0m\u001B[0;34m,\u001B[0m \u001B[0;36m8\u001B[0m\u001B[0;34m,\u001B[0m \u001B[0;36m9\u001B[0m\u001B[0;34m]\u001B[0m\u001B[0;34m\u001B[0m\u001B[0;34m\u001B[0m\u001B[0m\n\u001B[1;32m      2\u001B[0m \u001B[0;34m\u001B[0m\u001B[0m\n\u001B[0;32m----> 3\u001B[0;31m \u001B[0mn\u001B[0m \u001B[0;34m=\u001B[0m \u001B[0mint\u001B[0m\u001B[0;34m(\u001B[0m\u001B[0minput\u001B[0m\u001B[0;34m(\u001B[0m\u001B[0;34m'Введите число: '\u001B[0m\u001B[0;34m)\u001B[0m\u001B[0;34m)\u001B[0m\u001B[0;34m\u001B[0m\u001B[0;34m\u001B[0m\u001B[0m\n\u001B[0m\u001B[1;32m      4\u001B[0m \u001B[0;34m\u001B[0m\u001B[0m\n\u001B[1;32m      5\u001B[0m \u001B[0mprint\u001B[0m\u001B[0;34m(\u001B[0m\u001B[0mn\u001B[0m \u001B[0;32min\u001B[0m \u001B[0ma\u001B[0m\u001B[0;34m)\u001B[0m\u001B[0;34m\u001B[0m\u001B[0;34m\u001B[0m\u001B[0m\n",
      "\u001B[0;31mValueError\u001B[0m: invalid literal for int() with base 10: ''"
     ]
    }
   ],
   "source": [
    "a = [5, 3, 2, 6, 8, 9]\n",
    "\n",
    "n = int(input('Введите число: '))\n",
    "\n",
    "print(n in a)"
   ]
  },
  {
   "cell_type": "markdown",
   "metadata": {},
   "source": [
    "<p><code>is</code> позволяет сравнить переменные <b>по значению</b>, учитывая типы данных.</p>"
   ]
  },
  {
   "cell_type": "code",
   "execution_count": null,
   "metadata": {},
   "outputs": [],
   "source": [
    "x = 7\n",
    "y = 14 / 2  # 7.0\n",
    "\n",
    "print(x is y)"
   ]
  },
  {
   "cell_type": "markdown",
   "metadata": {},
   "source": [
    "<p><code>false</code> я получаю, потому что при делении целого на целое, получаетя десятичная дробь.</p>\n",
    "<p><code>int / int = float</code></p>"
   ]
  },
  {
   "cell_type": "code",
   "execution_count": null,
   "metadata": {},
   "outputs": [],
   "source": [
    "x = 7\n",
    "y = 14 / 2  # 7.0\n",
    "\n",
    "print(x == y)"
   ]
  },
  {
   "cell_type": "markdown",
   "metadata": {},
   "source": [
    "<p>Условия могут состоять из 3 ключевых слов:</p>\n",
    "<ul>\n",
    "    <li><code>if</code> если. Это начало блока условий, после которого вы ставите выражение, которое нужно проверить: <code>if chislo % 2 == 0</code>.</li>\n",
    "    <li><code>elif</code> <b>иначе</b> если. - это тот случай, когда вам нужно проверить другую ситуацию. <code>elif chislo % 3 == 0</code></li>\n",
    "    <li><code>else</code> иначе. Блок говорит, что нужно делать, если ни одно из условий выше не исполнилось.</li>\n",
    "</ul>"
   ]
  },
  {
   "cell_type": "code",
   "execution_count": null,
   "metadata": {},
   "outputs": [],
   "source": [
    "age = int(input('Сколько тебе лет? '))\n",
    "\n",
    "if age <= 4:\n",
    "    print('Бесплатно!')\n",
    "elif age < 18:\n",
    "    print('С вас $5.')\n",
    "else:\n",
    "    print('С вас $10.')"
   ]
  },
  {
   "cell_type": "markdown",
   "metadata": {},
   "source": [
    "<p><code>elif</code> может заменяться if, но в этом случае вы получите неожиданные сюрпризы. Потому что блоки <code>if</code> проверяются ВСЕ СРАЗУ. А блоки <code>elif</code> проверяются по очереди и, если хотя бы один сработал, остальные проверены не будут.</p>"
   ]
  },
  {
   "cell_type": "code",
   "execution_count": null,
   "metadata": {},
   "outputs": [],
   "source": [
    "age = int(input('Сколько тебе лет? '))\n",
    "\n",
    "if age <= 4:\n",
    "    print('Бесплатно!')\n",
    "if age < 18:\n",
    "    print('С вас $5.')\n",
    "else:\n",
    "    print('С вас $10.')"
   ]
  },
  {
   "cell_type": "markdown",
   "metadata": {},
   "source": [
    "<p>Блок <code>else</code> тоже можно не использовать, но в этом случае вы теряете возможность указать дефолтный путь (что делать, если ничего не выполнено).</p>\n",
    "\n",
    "### Логические операции\n",
    "\n",
    "<p>Логические операции используются для проверки сложных высказываний.</p>\n",
    "<ul>\n",
    "    <li><code><b>И</b></code> - И используется, когда нужно проверить два выражения и оба должны быть истинными. В языке пишется как <code>and</code>.</li>\n",
    "    <li><code><b>ИЛИ</b></code> - ИЛИ используется, когда нужно проверить два выражения и хотя бы одно должно быть истинным. В языке пишется как <code>or</code>.</li>\n",
    "    <li><code><b>НЕ</b></code> - разворот значения. Используется для отрицания. В языке пишется как <code>not</code>.</li>\n",
    "</ul>"
   ]
  },
  {
   "cell_type": "code",
   "execution_count": null,
   "metadata": {},
   "outputs": [],
   "source": [
    "# проверить числа, которые делятся на 3 и на 5, при этом деление на 15 использовать нельзя\n",
    "\n",
    "number = int(input('Введи число: '))\n",
    "\n",
    "if ((number % 3) == 0) and ((number % 5) == 0):\n",
    "    print('Число делится и на 3, и на 5.')\n",
    "elif number % 3 == 0:\n",
    "    print('Число делится только на 3.')\n",
    "elif number % 5 == 0:\n",
    "    print('Число делится только на 5.')\n",
    "else:\n",
    "    print('Оно не делится ни на 3, ни на 5.')"
   ]
  },
  {
   "cell_type": "markdown",
   "metadata": {},
   "source": [
    "<p>Нужно написать программу, которая проверяет, можно ли положить багаж в самолет. Программа принимает размеры багажа и его массу. Условия проверки следующие: если <code>ширина + высота + глубина &lt; 150 ИЛИ масса меньше 100 кг</code>.</p>"
   ]
  },
  {
   "cell_type": "code",
   "execution_count": null,
   "metadata": {},
   "outputs": [],
   "source": [
    "width = float(input('Ширина: '))\n",
    "height = float(input('Высота: '))\n",
    "depth = float(input('Глубина: '))\n",
    "weight = float(input('Масса: '))\n",
    "\n",
    "if ((width + height + depth) < 150) or (weight < 100):\n",
    "    print('Можно!')\n",
    "else:\n",
    "    print('Нельзя!')"
   ]
  },
  {
   "cell_type": "markdown",
   "metadata": {},
   "source": [
    "<p>Найти все числа от <b>2500</b> до <b>3900</b>, которые делятся на 7. И посчитать их количество.</p>"
   ]
  },
  {
   "cell_type": "code",
   "execution_count": null,
   "metadata": {},
   "outputs": [],
   "source": [
    "divide_by_7 = []\n",
    "\n",
    "for number in range(2500, 3901):\n",
    "    if number % 7 == 0:\n",
    "        divide_by_7.append(number)\n",
    "        \n",
    "print(f'Количество чисел: {len(divide_by_7)}')"
   ]
  },
  {
   "cell_type": "markdown",
   "metadata": {},
   "source": [
    "<p>Самый простой способ - закинуть все числа, которые делятся на 7 в список. И затем измерить длину списка при помощи функции <code>len(x)</code>. В этом случае количество чисел = длине списка.</p>"
   ]
  }
 ],
 "metadata": {
  "kernelspec": {
   "display_name": "Python 3 (ipykernel)",
   "language": "python",
   "name": "python3"
  },
  "language_info": {
   "codemirror_mode": {
    "name": "ipython",
    "version": 3
   },
   "file_extension": ".py",
   "mimetype": "text/x-python",
   "name": "python",
   "nbconvert_exporter": "python",
   "pygments_lexer": "ipython3",
   "version": "3.7.7"
  }
 },
 "nbformat": 4,
 "nbformat_minor": 1
}